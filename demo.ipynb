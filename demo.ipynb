{
  "cells": [
    {
      "cell_type": "code",
      "execution_count": 1,
      "metadata": {},
      "outputs": [
        {
          "name": "stderr",
          "output_type": "stream",
          "text": [
            "/anaconda/envs/drag/lib/python3.9/site-packages/tqdm/auto.py:21: TqdmWarning: IProgress not found. Please update jupyter and ipywidgets. See https://ipywidgets.readthedocs.io/en/stable/user_install.html\n",
            "  from .autonotebook import tqdm as notebook_tqdm\n"
          ]
        }
      ],
      "source": [
        "from typing import List, Dict\n",
        "from transformers import pipeline\n",
        "import spacy\n",
        "import re\n",
        "import pandas as pd\n",
        "import pickle\n",
        "import os\n",
        "from nlp import Document, Question, PassageTokenizer, BagWords, QA\n",
        "from llm import Embedder, Agent\n",
        "from openai.embeddings_utils import cosine_similarity\n",
        "from tqdm import tqdm\n",
        "from time import time"
      ]
    },
    {
      "cell_type": "code",
      "execution_count": 2,
      "metadata": {},
      "outputs": [],
      "source": [
        "# import time\n",
        "# import datetime\n",
        "\n",
        "# def tt(elapsed):\n",
        "#     # Round to the nearest second.\n",
        "#     elapsed_rounded = int(round((elapsed)))\n",
        "    \n",
        "#     # Format as hh:mm:ss\n",
        "#     return str(datetime.timedelta(seconds=elapsed_rounded))"
      ]
    },
    {
      "cell_type": "code",
      "execution_count": 3,
      "metadata": {
        "jupyter": {
          "outputs_hidden": false,
          "source_hidden": false
        },
        "nteract": {
          "transient": {
            "deleting": false
          }
        }
      },
      "outputs": [],
      "source": [
        "class Cache():\n",
        "    '''\n",
        "    This is just a dictionary of documents. Should be\n",
        "    a service, such as Az Table or Cosmos\n",
        "    '''\n",
        "    def __init__(self, documents: Dict = None):\n",
        "        documents = documents if documents else {}\n",
        "        self.documents = documents\n",
        "    \n",
        "    def set_document(self, doc: Document):\n",
        "        self.documents[doc.id] = doc\n",
        "\n",
        "    def get_document(self, id: str):\n",
        "        if id in self.documents.keys():\n",
        "            return self.documents[id]\n",
        "        else:\n",
        "            return None\n",
        "    \n",
        "    def save(self, root: str):\n",
        "        path = os.path.join(root, 'cache.pkl')\n",
        "        with open(path, 'wb') as f:\n",
        "            pickle.dump(self.documents, f)\n",
        "    \n",
        "    @classmethod\n",
        "    def load(cls, path):\n",
        "        with open(path, 'rb') as f:\n",
        "            documents = pickle.load(f)\n",
        "        return cls(documents)"
      ]
    },
    {
      "cell_type": "code",
      "execution_count": 4,
      "metadata": {
        "jupyter": {
          "outputs_hidden": false,
          "source_hidden": false
        },
        "nteract": {
          "transient": {
            "deleting": false
          }
        }
      },
      "outputs": [],
      "source": [
        "class ConversationPipeline():\n",
        "    \n",
        "    def __init__(self, \n",
        "                    cache_path: str = None, \n",
        "                    bow_path: str = None,\n",
        "                    bow_corpus: List[str] = None,\n",
        "                    similarity_threshold: float = 0.5, \n",
        "                    qa_threshold: float = 0.5, \n",
        "                    do_sem_similairty: bool = True, \n",
        "                    do_sin_similairty: bool = True, \n",
        "                    do_qa: bool = True):\n",
        "    \n",
        "        \n",
        "        if bow_path:\n",
        "            self.bow = BagWords.load(bow_path)  \n",
        "        elif bow_corpus:\n",
        "            self.bow = BagWords(bow_corpus)\n",
        "        else:\n",
        "            raise(\"ERROR: need to init BOW somehow\")\n",
        "        self.cache = Cache.load(cache_path) if cache_path else Cache()\n",
        "        self.tok = PassageTokenizer() # missing arguments\n",
        "        self.embedder = Embedder() # missing arguments\n",
        "        self.qa = QA() # missing arguments\n",
        "        self.similarity_threshold = similarity_threshold\n",
        "        self.qa_threshold = qa_threshold\n",
        "        self.do_sem_similairty = do_sem_similairty\n",
        "        self.do_sin_similairty = do_sin_similairty\n",
        "        self.do_qa = do_qa\n",
        "\n",
        "    def encode_document(self, full_text: str, id: str, metadata: str):\n",
        "        doc = self.cache.get_document(id)\n",
        "        if doc is None:\n",
        "            doc = Document(full_text, id, metadata)\n",
        "            doc.passages = self.tok.get_passages(doc.document)\n",
        "            doc.embeddings = self.embedder(doc.passages)\n",
        "            doc.bow = self.bow.transform(doc.passages)\n",
        "            self.cache.set_document(doc)\n",
        "        return doc\n",
        "    \n",
        "    def encode_question(self, question: str):\n",
        "        emb = self.embedder(question)\n",
        "        bow = self.bow.transform(question)\n",
        "        return Question(question, emb, bow)\n",
        "\n",
        "\n",
        "    def get_best_passages(self, doc: Document, question: Question) -> List[Dict]:\n",
        "        passages = []\n",
        "\n",
        "        # check semantic similarity\n",
        "        if self.do_sem_similairty:\n",
        "            sem_sims = [self.embedder.similarity(question.embedding, d) for d in doc.embeddings]\n",
        "        else:\n",
        "            sem_sims = [0]*doc.size\n",
        "\n",
        "        # check sintax similarity\n",
        "        if self.do_sin_similairty:\n",
        "            sin_sims = [self.bow.similarity(question.bow, d) for d in doc.bow]\n",
        "        else:\n",
        "            sin_sims = [0]*doc.size\n",
        "        \n",
        "        sims = [max(sem, sim) for sem, sim in zip(sem_sims, sin_sims)]\n",
        "        for p, s in zip(doc.passages, sims):\n",
        "            if s < self.similarity_threshold:\n",
        "                continue\n",
        "            \n",
        "            passage = {'doc_id': doc.id, 'metadata': doc.metadata, 'passage': p} #doc.passages[idx]\n",
        "            # check reading comprehension\n",
        "            if self.do_qa:\n",
        "                score = self.qa(p, question) #doc.passages[idx]\n",
        "                if score < self.qa_threshold:\n",
        "                    continue\n",
        "                passage['score'] = score\n",
        "            else:\n",
        "                passage['score'] = s\n",
        "            \n",
        "            passages.append(passage)\n",
        "        \n",
        "        return passages"
      ]
    },
    {
      "cell_type": "markdown",
      "metadata": {},
      "source": [
        "We are assuming a search service returns a list of documents,\n",
        "each having a system ID, used to match the cache, and metadata \n",
        "to be return to the user as a consumable reference to the document"
      ]
    },
    {
      "cell_type": "code",
      "execution_count": 5,
      "metadata": {},
      "outputs": [
        {
          "data": {
            "text/html": [
              "<div>\n",
              "<style scoped>\n",
              "    .dataframe tbody tr th:only-of-type {\n",
              "        vertical-align: middle;\n",
              "    }\n",
              "\n",
              "    .dataframe tbody tr th {\n",
              "        vertical-align: top;\n",
              "    }\n",
              "\n",
              "    .dataframe thead th {\n",
              "        text-align: right;\n",
              "    }\n",
              "</style>\n",
              "<table border=\"1\" class=\"dataframe\">\n",
              "  <thead>\n",
              "    <tr style=\"text-align: right;\">\n",
              "      <th></th>\n",
              "      <th>doc</th>\n",
              "      <th>id</th>\n",
              "      <th>metadata</th>\n",
              "    </tr>\n",
              "  </thead>\n",
              "  <tbody>\n",
              "    <tr>\n",
              "      <th>0</th>\n",
              "      <td>From: lerxst@wam.umd.edu (where's my thing)\\nS...</td>\n",
              "      <td>0</td>\n",
              "      <td>bla-0</td>\n",
              "    </tr>\n",
              "    <tr>\n",
              "      <th>1</th>\n",
              "      <td>From: guykuo@carson.u.washington.edu (Guy Kuo)...</td>\n",
              "      <td>1</td>\n",
              "      <td>bla-1</td>\n",
              "    </tr>\n",
              "    <tr>\n",
              "      <th>2</th>\n",
              "      <td>From: twillis@ec.ecn.purdue.edu (Thomas E Will...</td>\n",
              "      <td>2</td>\n",
              "      <td>bla-2</td>\n",
              "    </tr>\n",
              "  </tbody>\n",
              "</table>\n",
              "</div>"
            ],
            "text/plain": [
              "                                                 doc  id metadata\n",
              "0  From: lerxst@wam.umd.edu (where's my thing)\\nS...   0    bla-0\n",
              "1  From: guykuo@carson.u.washington.edu (Guy Kuo)...   1    bla-1\n",
              "2  From: twillis@ec.ecn.purdue.edu (Thomas E Will...   2    bla-2"
            ]
          },
          "execution_count": 5,
          "metadata": {},
          "output_type": "execute_result"
        }
      ],
      "source": [
        "documents = pd.read_csv('./documents.csv')\n",
        "documents['metadata'] = documents['id'].apply(lambda r: f\"bla-{r}\")\n",
        "documents.head(3)"
      ]
    },
    {
      "cell_type": "markdown",
      "metadata": {},
      "source": [
        "We instantiate the conversation pipeline with default parameters, using the loaded documents as corpus"
      ]
    },
    {
      "cell_type": "code",
      "execution_count": 6,
      "metadata": {},
      "outputs": [
        {
          "data": {
            "text/plain": [
              "[\"From: lerxst@wam.umd.edu (where's my thing)\\nSubject: WHAT car is this!?\\nNntp-Posting-Host: rac3.wam.umd.edu\\nOrganization: University of Maryland, College Park\\nLines: 15\\n\\n I was wondering if anyone out there could enlighten me on this car I saw\\nthe other day. It was a 2-door sports car, looked to be from the late 60s/\\nearly 70s. It was called a Bricklin. The doors were really small. In addition,\\nthe front bumper was separate from the rest of the body. This is \\nall I know. If anyone can tellme a model name, engine specs, years\\nof production, where this car is made, history, or whatever info you\\nhave on this funky looking car, please e-mail.\\n\\nThanks,\\n- IL\\n   ---- brought to you by your neighborhood Lerxst ----\\n\\n\\n\\n\\n\",\n",
              " \"From: guykuo@carson.u.washington.edu (Guy Kuo)\\nSubject: SI Clock Poll - Final Call\\nSummary: Final call for SI clock reports\\nKeywords: SI,acceleration,clock,upgrade\\nArticle-I.D.: shelley.1qvfo9INNc3s\\nOrganization: University of Washington\\nLines: 11\\nNNTP-Posting-Host: carson.u.washington.edu\\n\\nA fair number of brave souls who upgraded their SI clock oscillator have\\nshared their experiences for this poll. Please send a brief message detailing\\nyour experiences with the procedure. Top speed attained, CPU rated speed,\\nadd on cards and adapters, heat sinks, hour of usage per day, floppy disk\\nfunctionality with 800 and 1.4 m floppies are especially requested.\\n\\nI will be summarizing in the next two days, so please add to the network\\nknowledge base if you have done the clock upgrade and haven't answered this\\npoll. Thanks.\\n\\nGuy Kuo <guykuo@u.washington.edu>\\n\",\n",
              " 'From: twillis@ec.ecn.purdue.edu (Thomas E Willis)\\nSubject: PB questions...\\nOrganization: Purdue University Engineering Computer Network\\nDistribution: usa\\nLines: 36\\n\\nwell folks, my mac plus finally gave up the ghost this weekend after\\nstarting life as a 512k way back in 1985.  sooo, i\\'m in the market for a\\nnew machine a bit sooner than i intended to be...\\n\\ni\\'m looking into picking up a powerbook 160 or maybe 180 and have a bunch\\nof questions that (hopefully) somebody can answer:\\n\\n* does anybody know any dirt on when the next round of powerbook\\nintroductions are expected?  i\\'d heard the 185c was supposed to make an\\nappearence \"this summer\" but haven\\'t heard anymore on it - and since i\\ndon\\'t have access to macleak, i was wondering if anybody out there had\\nmore info...\\n\\n* has anybody heard rumors about price drops to the powerbook line like the\\nones the duo\\'s just went through recently?\\n\\n* what\\'s the impression of the display on the 180?  i could probably swing\\na 180 if i got the 80Mb disk rather than the 120, but i don\\'t really have\\na feel for how much \"better\" the display is (yea, it looks great in the\\nstore, but is that all \"wow\" or is it really that good?).  could i solicit\\nsome opinions of people who use the 160 and 180 day-to-day on if its worth\\ntaking the disk size and money hit to get the active display?  (i realize\\nthis is a real subjective question, but i\\'ve only played around with the\\nmachines in a computer store breifly and figured the opinions of somebody\\nwho actually uses the machine daily might prove helpful).\\n\\n* how well does hellcats perform?  ;)\\n\\nthanks a bunch in advance for any info - if you could email, i\\'ll post a\\nsummary (news reading time is at a premium with finals just around the\\ncorner... :( )\\n--\\nTom Willis  \\\\  twillis@ecn.purdue.edu    \\\\    Purdue Electrical Engineering\\n---------------------------------------------------------------------------\\n\"Convictions are more dangerous enemies of truth than lies.\"  - F. W.\\nNietzsche\\n']"
            ]
          },
          "execution_count": 6,
          "metadata": {},
          "output_type": "execute_result"
        }
      ],
      "source": [
        "corpus = list(documents.doc)\n",
        "corpus[:3]"
      ]
    },
    {
      "cell_type": "code",
      "execution_count": 7,
      "metadata": {},
      "outputs": [
        {
          "name": "stderr",
          "output_type": "stream",
          "text": [
            "No model was supplied, defaulted to distilbert-base-cased-distilled-squad and revision 626af31 (https://huggingface.co/distilbert-base-cased-distilled-squad).\n",
            "Using a pipeline without specifying a model name and revision in production is not recommended.\n"
          ]
        }
      ],
      "source": [
        "agent = ConversationPipeline(bow_corpus=corpus)"
      ]
    },
    {
      "cell_type": "code",
      "execution_count": 8,
      "metadata": {},
      "outputs": [
        {
          "name": "stdout",
          "output_type": "stream",
          "text": [
            "0.4715242385864258\n",
            "dict_keys(['question', 'embedding', 'bow'])\n",
            "What size were the doors of the Bricklin car?\n"
          ]
        }
      ],
      "source": [
        "question = 'What size were the doors of the Bricklin car?'\n",
        "t0 = time()\n",
        "q = agent.encode_question(question)\n",
        "print(time()-t0)\n",
        "print(q.__dict__.keys())\n",
        "print(q.question)"
      ]
    },
    {
      "cell_type": "code",
      "execution_count": 9,
      "metadata": {},
      "outputs": [
        {
          "name": "stdout",
          "output_type": "stream",
          "text": [
            "From: lerxst@wam.umd.edu (where's my thing)\n",
            "Subject: WHAT car is this!?\n",
            "Nntp-Posting-Host: rac3.wam.umd.edu\n",
            "Organization: University of Maryland, College Park\n",
            "Lines: 15\n",
            "\n",
            " I was wondering if anyone out there could enlighten me on this car I saw\n",
            "the other day. It was a 2-door sports car, looked to be from the late 60s/\n",
            "early 70s. It was called a Bricklin. The doors were really small. In addition,\n",
            "the front bumper was separate from the rest of the body. This is \n",
            "all I know. If anyone can tellme a model name, engine specs, years\n",
            "of production, where this car is made, history, or whatever info you\n",
            "have on this funky looking car, please e-mail.\n",
            "\n",
            "Thanks,\n",
            "- IL\n",
            "   ---- brought to you by your neighborhood Lerxst ----\n",
            "\n",
            "\n",
            "\n",
            "\n",
            "\n"
          ]
        }
      ],
      "source": [
        "document = documents.iloc[0]\n",
        "print(document['doc'])"
      ]
    },
    {
      "cell_type": "code",
      "execution_count": 10,
      "metadata": {},
      "outputs": [
        {
          "name": "stdout",
          "output_type": "stream",
          "text": [
            "0.6968181133270264\n",
            "dict_keys(['document', 'id', 'metadata', 'passages', 'embeddings', 'bow'])\n",
            "From: lerxst@wam.umd.edu (where's my thing)\n",
            " Subject: WHAT car is this!?\n",
            " Nntp-Posting-Host: rac3.wam.umd.edu\n",
            "Organization: University of Maryland, College Park\n",
            "Lines: 15\n",
            "\n",
            " I was wondering if anyone out there could enlighten me on this car I saw\n",
            "the other day.\n",
            "***Nntp-Posting-Host: rac3.wam.umd.edu\n",
            "Organization: University of Maryland, College Park\n",
            "Lines: 15\n",
            "\n",
            " I was wondering if anyone out there could enlighten me on this car I saw\n",
            "the other day. It was a 2-door sports car, looked to be from the late 60s/\n",
            "early 70s. It was called a Bricklin.\n",
            "***It was called a Bricklin. The doors were really small. In addition,\n",
            "the front bumper was separate from the rest of the body.\n",
            "***In addition,\n",
            "the front bumper was separate from the rest of the body. This is \n",
            "all I know. If anyone can tellme a model name, engine specs, years\n",
            "of production, where this car is made, history, or whatever info you\n",
            "have on this funky looking car, please e-mail.\n",
            "\n",
            "\n",
            "***If anyone can tellme a model name, engine specs, years\n",
            "of production, where this car is made, history, or whatever info you\n",
            "have on this funky looking car, please e-mail.\n",
            "\n",
            " Thanks,\n",
            "- IL\n",
            "   ---- brought to you by your neighborhood Lerxst ----\n",
            "\n",
            "\n",
            "\n",
            "\n",
            "\n"
          ]
        }
      ],
      "source": [
        "t0 = time()\n",
        "doc = agent.encode_document(document['doc'], document['id'], document['metadata'])\n",
        "print(time()-t0)\n",
        "print(doc.__dict__.keys())\n",
        "print(\"\\n***\".join(doc.passages))"
      ]
    },
    {
      "cell_type": "code",
      "execution_count": 11,
      "metadata": {},
      "outputs": [
        {
          "name": "stdout",
          "output_type": "stream",
          "text": [
            "0.0001685619354248047\n"
          ]
        }
      ],
      "source": [
        "# this time the cache is used\n",
        "t0 = time()\n",
        "doc = agent.encode_document(document['doc'], document['id'], document['metadata'])\n",
        "print(time()-t0)"
      ]
    },
    {
      "cell_type": "code",
      "execution_count": 12,
      "metadata": {},
      "outputs": [
        {
          "name": "stdout",
          "output_type": "stream",
          "text": [
            "0.7087578773498535\n",
            "[{'doc_id': 0, 'metadata': 'bla-0', 'passage': 'If anyone can tellme a model name, engine specs, years\\nof production, where this car is made, history, or whatever info you\\nhave on this funky looking car, please e-mail.\\n\\n Thanks,\\n- IL\\n   ---- brought to you by your neighborhood Lerxst ----\\n\\n\\n\\n\\n', 'score': 0.6073856353759766}]\n"
          ]
        }
      ],
      "source": [
        "t0 = time()\n",
        "doc_passages = agent.get_best_passages(doc, q)\n",
        "print(time()-t0)\n",
        "print(doc_passages)"
      ]
    },
    {
      "cell_type": "code",
      "execution_count": 13,
      "metadata": {},
      "outputs": [
        {
          "name": "stdout",
          "output_type": "stream",
          "text": [
            "12.36342453956604\n"
          ]
        }
      ],
      "source": [
        "passages = []\n",
        "t0 = time()\n",
        "for i in range(10):\n",
        "    document = documents.iloc[i]\n",
        "    doc = agent.encode_document(document['doc'], document['id'], document['metadata'])\n",
        "    doc_passages = agent.get_best_passages(doc, q)\n",
        "    passages.extend(doc_passages)\n",
        "print(time()-t0)"
      ]
    },
    {
      "cell_type": "code",
      "execution_count": 14,
      "metadata": {},
      "outputs": [
        {
          "name": "stdout",
          "output_type": "stream",
          "text": [
            "3.680506944656372\n"
          ]
        }
      ],
      "source": [
        "passages = []\n",
        "t0 = time()\n",
        "for i in range(10):\n",
        "    document = documents.iloc[i]\n",
        "    doc = agent.encode_document(document['doc'], document['id'], document['metadata'])\n",
        "    doc_passages = agent.get_best_passages(doc, q)\n",
        "    passages.extend(doc_passages)\n",
        "print(time()-t0)"
      ]
    },
    {
      "cell_type": "code",
      "execution_count": 15,
      "metadata": {},
      "outputs": [
        {
          "data": {
            "text/plain": [
              "[{'doc_id': 0,\n",
              "  'metadata': 'bla-0',\n",
              "  'passage': 'If anyone can tellme a model name, engine specs, years\\nof production, where this car is made, history, or whatever info you\\nhave on this funky looking car, please e-mail.\\n\\n Thanks,\\n- IL\\n   ---- brought to you by your neighborhood Lerxst ----\\n\\n\\n\\n\\n',\n",
              "  'score': 0.6073856353759766},\n",
              " {'doc_id': 7,\n",
              "  'metadata': 'bla-7',\n",
              "  'passage': 'ALL these SCSI facts have been\\nposted to this newsgroup in my Mac & IBM info sheet {available by FTP on \\nsumex-aim.stanford.edu (36.44.0.6) in the info-mac/report as \\nmac-ibm-compare[version #].txt (It should be 173 but 161 may still be there)}\\n\\n Part of this problem is both Mac and IBM PC are inconsiant about what SCSI\\nis which.  ',\n",
              "  'score': 0.7398799061775208}]"
            ]
          },
          "execution_count": 15,
          "metadata": {},
          "output_type": "execute_result"
        }
      ],
      "source": [
        "passages"
      ]
    }
  ],
  "metadata": {
    "kernel_info": {
      "name": "python3"
    },
    "kernelspec": {
      "display_name": "Python 3 (ipykernel)",
      "language": "python",
      "name": "python3"
    },
    "language_info": {
      "codemirror_mode": {
        "name": "ipython",
        "version": 3
      },
      "file_extension": ".py",
      "mimetype": "text/x-python",
      "name": "python",
      "nbconvert_exporter": "python",
      "pygments_lexer": "ipython3",
      "version": "3.9.18"
    },
    "microsoft": {
      "ms_spell_check": {
        "ms_spell_check_language": "en"
      }
    },
    "nteract": {
      "version": "nteract-front-end@1.0.0"
    }
  },
  "nbformat": 4,
  "nbformat_minor": 2
}
